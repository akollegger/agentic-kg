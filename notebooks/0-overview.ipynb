{
 "cells": [
  {
   "cell_type": "markdown",
   "id": "df3107d4",
   "metadata": {},
   "source": [
    "<img src=\"images/kg_construction_flow.png\" alt=\"KG Construction Flow\" />\n"
   ]
  },
  {
   "cell_type": "markdown",
   "id": "28a3b899",
   "metadata": {},
   "source": [
    "## Course Outline\n",
    "\n",
    "1. Intro to ADK\n",
    "    - Brief introduction to Google's Agent Development Kit (ADK)\n",
    "2. User Intent\n",
    "    - A goal-oriented, conversational agent that helps the user ideate on the kind of graph to build.\n",
    "    - Input: nothing\n",
    "    - Output: `approved_user_goal`, a dictionary pairing a kind of graph with a description of the purpose of the graph.\n",
    "3. File Suggestions\n",
    "    - Evaluates available data files, looking for files that are relevant to the user goal.\n",
    "    - Makes suggestions to the user, seeking their approval before continuing\n",
    "    - Input: `approved_user_goal`\n",
    "    - Output: `approved_files`, an approved list of files to use for the graph construction.\n",
    "4. Schema Proposal, for Structured Data\n",
    "    - Proposes a schema for the graph, based on the approved CSV files.\n",
    "    - Input: `approved_user_goal`, `approved_files`\n",
    "    - Output: `approved_schema`, a dictionary defining the schema for the graph.\n",
    "5. Schema Proposal, for Unstructured Data\n",
    "    - Proposes an extended schema for the graph, including entity and relationship extraction from approved Markdown files.\n",
    "    - Input: `approved_user_goal`, `approved_files`, `approved_schema`\n",
    "    - Output: `approved_schema`, a dictionary defining the schema for the graph.    \n",
    "6. Graph Construction\n",
    "    - Constructs the graph based on the approved schema and files.\n",
    "    - Input: `approved_user_goal`, `approved_files`, `approved_schema`\n",
    "    - Output: `knowledge_graph`, a knowledge graph based on the approved schema and files that satisfies the user goal.\n",
    "\n",
    "\n"
   ]
  }
 ],
 "metadata": {
  "language_info": {
   "name": "python"
  }
 },
 "nbformat": 4,
 "nbformat_minor": 5
}
