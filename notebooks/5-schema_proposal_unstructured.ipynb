{
  "cells": [
    {
      "cell_type": "markdown",
      "metadata": {
        "id": "Np0plMPXRvoq"
      },
      "source": [
        "# Schema Proposal (Unstructured)\n",
        "\n",
        "Still in the schema proposal phase, you'll turn your attention to the unstructured data case.\n",
        "\n",
        "## Agent\n",
        "\n",
        "- An agent that proposes a schema for the knowledge graph, based on the established user goal.\n",
        "- Input: `approved_user_goal`, `approved_files`\n",
        "- Output: `approved_construction_plan`, a dictionary containing the construction plan for the knowledge graph.\n",
        "- Tools: `get_approved_user_goal`, `get_approved_files`, `sample_file`, \n",
        "        `propose_entity_extraction`, `propose_relationship_extraction`, `approve_proposed_construction_plan`\n",
        "\n",
        "## Workflow\n",
        "\n",
        "1. The context is initialized with an `approved_user_goal` and `approved_files`\n",
        "2. For each file, determine whether it represents a node or a relationship.\n",
        "3. For each node file, propose an entity extraction (file --> label, properties).\n",
        "4. For each relationship file, propose a relationship extraction (file --> source and target nodes, relationship type and properties).\n",
        "5. Present the construction proposal and ask for approval.\n",
        "6. The user approves the construction proposal.\n",
        "7. The construction proposal is saved in the context state as `approve_proposed_construction_plan`.\n"
      ]
    },
    {
      "cell_type": "markdown",
      "metadata": {},
      "source": [
        "## Setup\n",
        "\n",
        "The usual import of needed libraries, loading of environment variables, and connection to Neo4j."
      ]
    },
    {
      "cell_type": "code",
      "execution_count": null,
      "metadata": {
        "id": "sbwxKypOSBkN"
      },
      "outputs": [],
      "source": [
        "# Import necessary libraries\n",
        "import os\n",
        "from pathlib import Path\n",
        "\n",
        "from itertools import islice\n",
        "\n",
        "from google.adk.agents import Agent\n",
        "from google.adk.models.lite_llm import LiteLlm # For OpenAI support\n",
        "from google.adk.sessions import InMemorySessionService\n",
        "from google.adk.runners import Runner\n",
        "from google.adk.tools import ToolContext\n",
        "from google.genai import types # For creating message Content/Parts\n",
        "\n",
        "# For type hints\n",
        "from typing import Dict, Any, List\n",
        "\n",
        "# Convenience libraries for working with Neo4j inside of Google ADK\n",
        "from neo4j_for_adk import graphdb, tool_success, tool_error\n",
        "\n",
        "import warnings\n",
        "# Ignore all warnings\n",
        "warnings.filterwarnings(\"ignore\")\n",
        "\n",
        "import logging\n",
        "logging.basicConfig(level=logging.CRITICAL)\n",
        "\n",
        "print(\"Libraries imported.\")"
      ]
    },
    {
      "cell_type": "code",
      "execution_count": null,
      "metadata": {
        "id": "MI_qvZJrSJuR"
      },
      "outputs": [],
      "source": [
        "# --- Define Model Constants for easier use ---\n",
        "MODEL_GPT_4O = \"openai/gpt-4o\"\n",
        "\n",
        "llm = LiteLlm(model=MODEL_GPT_4O)\n",
        "\n",
        "# Test LLM with a direct call\n",
        "print(llm.llm_client.completion(model=llm.model, messages=[{\"role\": \"user\", \"content\": \"Are you ready?\"}], tools=[]))\n",
        "\n",
        "print(\"\\nEnvironment configured.\")"
      ]
    },
    {
      "cell_type": "code",
      "execution_count": null,
      "metadata": {},
      "outputs": [],
      "source": [
        "# Check connection to Neo4j by sending a query\n",
        "\n",
        "neo4j_is_ready = graphdb.send_query(\"RETURN 'Neo4j is Ready!' as message\")\n",
        "\n",
        "print(neo4j_is_ready)"
      ]
    },
    {
      "cell_type": "markdown",
      "metadata": {},
      "source": [
        "## Define the Structured Schema Proposal Agent"
      ]
    },
    {
      "cell_type": "markdown",
      "metadata": {},
      "source": [
        "### Agent Instructions"
      ]
    },
    {
      "cell_type": "code",
      "execution_count": null,
      "metadata": {},
      "outputs": [],
      "source": [
        "# First, define the instruction to describe what the agent should do\n",
        "structured_schema_proposal_agent_instruction = \"\"\"\n",
        "        You are an expert at knowledge graph modeling with property graphs. Propose an appropriate\n",
        "        schema based on the user goal and list of approved files.\n",
        "        \n",
        "        Prepare for the task:\n",
        "        - get the user goal using the 'get_approved_user_goal' tool\n",
        "        - get the list of approved files using the 'get_approved_files' tool\n",
        "\n",
        "        Think carefully and collaborate with the user:\n",
        "        1. For each approved file, consider whether it represents a node or relationship. If you're unsure, use the 'sample_file' tool to get a better understanding of the file contents.\n",
        "        2. For a node file, propose a node construction using the 'propose_node_construction' tool\n",
        "        3. For a relationship file, propose a relationship construction using the 'propose_relationship_construction' tool\n",
        "        4. After proposing a construction for each file, present the proposed schema to the user, asking for their approval\n",
        "        5. If they disapprove, consider their feedback and go back to step 1\n",
        "        6. If the approve, use the 'approve_schema' tool to record the approval\n",
        "        \"\"\"\n"
      ]
    },
    {
      "cell_type": "markdown",
      "metadata": {},
      "source": [
        "### Tool Definitions"
      ]
    },
    {
      "cell_type": "code",
      "execution_count": null,
      "metadata": {},
      "outputs": [],
      "source": [
        "# import tools defined in previous notebook\n",
        "from tools import get_approved_user_goal, get_approved_files, sample_file\n"
      ]
    },
    {
      "cell_type": "code",
      "execution_count": null,
      "metadata": {},
      "outputs": [],
      "source": [
        "#  Tool: Propose Node Construction\n",
        "\n",
        "PROPOSED_CONSTRUCTION_PLAN = \"proposed_construction_plan\"\n",
        "NODE_CONSTRUCTION = \"node_construction\"\n",
        "\n",
        "def propose_node_construction(approved_file: str, proposed_label: str, unique_column_name: str, proposed_properties: list[str], tool_context:ToolContext) -> dict:\n",
        "    f\"\"\"Propose a node construction for an approved file that supports the user goal.\n",
        "\n",
        "    The construction plan will be saved to {PROPOSED_CONSTRUCTION_PLAN} list of dictionaries.\n",
        "    Each dictionary will have the following keys:\n",
        "    - construction_type: \"node\"\n",
        "    - source_file: The approved file to propose a node construction for\n",
        "    - label: The label of the node\n",
        "    - unique_column_name: The name of the column that will be used to uniquely identify constructed nodes\n",
        "    - properties: A list of properties for the node\n",
        "\n",
        "    Args:\n",
        "        approved_file: The approved file to propose a node construction for\n",
        "        proposed_label: The proposed label for constructed nodes\n",
        "        unique_column_name: The name of the column that will be used to uniquely identify constructed nodes\n",
        "        tool_context: The tool context\n",
        "\n",
        "    Returns:\n",
        "        dict: A dictionary containing metadata about the content.\n",
        "                Includes a 'status' key ('success' or 'error').\n",
        "                If 'success', includes a {NODE_CONSTRUCTION} key with the construction plan for the node\n",
        "                If 'error', includes an 'error_message' key.\n",
        "                The 'error_message' may have instructions about how to handle the error.\n",
        "    \"\"\"\n",
        "    construction_plan = tool_context.state.get(PROPOSED_CONSTRUCTION_PLAN, [])\n",
        "    node_construction_rule = {\n",
        "        \"construction_type\": \"node\",\n",
        "        \"source_file\": approved_file,\n",
        "        \"label\": proposed_label,\n",
        "        \"unique_column_name\": unique_column_name,\n",
        "        \"properties\": proposed_properties\n",
        "    }   \n",
        "    construction_plan.append(node_construction_rule)\n",
        "    tool_context.state[PROPOSED_CONSTRUCTION_PLAN] = construction_plan\n",
        "    return tool_success(NODE_CONSTRUCTION, node_construction_rule)\n"
      ]
    },
    {
      "cell_type": "code",
      "execution_count": null,
      "metadata": {},
      "outputs": [],
      "source": [
        "#  Tool: Propose Relationship Construction\n",
        "\n",
        "RELATIONSHIP_CONSTRUCTION = \"relationship_construction\"\n",
        "\n",
        "def propose_relationship_construction(approved_file: str, proposed_relationship_type: str, from_node_column: str, to_node_column: str, proposed_properties: list[str], tool_context:ToolContext) -> dict:\n",
        "    f\"\"\"Propose a relationship construction for an approved file that supports the user goal.\n",
        "\n",
        "    The construction plan will be saved to {PROPOSED_CONSTRUCTION_PLAN} list of dictionaries.\n",
        "    For relationships, the dictionary will have the following keys:\n",
        "    - construction_type: \"relationship\"\n",
        "    - source_file: The approved file to propose a node construction for\n",
        "    - proposed_relationship_type: The type of the relationship\n",
        "    - from_node_column: The name of the column that will be used to uniquely identify constructed nodes\n",
        "    - to_node_column: The name of the column that will be used to uniquely identify constructed nodes\n",
        "    - proposed_properties: A list of properties for the node\n",
        "\n",
        "    Args:\n",
        "        approved_file: The approved file to propose a node construction for\n",
        "        proposed_label: The proposed label for constructed nodes\n",
        "        unique_column_name: The name of the column that will be used to uniquely identify constructed nodes\n",
        "        tool_context: The tool context\n",
        "\n",
        "    Returns:\n",
        "        dict: A dictionary containing metadata about the content.\n",
        "                Includes a 'status' key ('success' or 'error').\n",
        "                If 'success', includes a {RELATIONSHIP_CONSTRUCTION} key with the construction plan for the node\n",
        "                If 'error', includes an 'error_message' key.\n",
        "                The 'error_message' may have instructions about how to handle the error.\n",
        "    \"\"\"\n",
        "    construction_plan = tool_context.state.get(PROPOSED_CONSTRUCTION_PLAN, [])\n",
        "    relationship_construction_rule = {\n",
        "        \"construction_type\": \"relationship\",\n",
        "        \"source_file\": approved_file,\n",
        "        \"proposed_relationship_type\": proposed_relationship_type,\n",
        "        \"from_node_column\": from_node_column,\n",
        "        \"to_node_column\": to_node_column,\n",
        "        \"proposed_properties\": proposed_properties\n",
        "    }   \n",
        "    construction_plan.append(relationship_construction_rule)\n",
        "    tool_context.state[PROPOSED_CONSTRUCTION_PLAN] = construction_plan\n",
        "    return tool_success(RELATIONSHIP_CONSTRUCTION, relationship_construction_rule)\n"
      ]
    },
    {
      "cell_type": "code",
      "execution_count": null,
      "metadata": {},
      "outputs": [],
      "source": [
        "APPROVED_CONSTRUCTION_PLAN = \"approved_construction_plan\"\n",
        "\n",
        "# Tool: Approve the proposed construction plan\n",
        "def approve_proposed_construction_plan(tool_context:ToolContext) -> dict:\n",
        "    \"\"\"Approve the proposed construction plan.\"\"\"\n",
        "    tool_context.state[APPROVED_CONSTRUCTION_PLAN] = tool_context.state.get(PROPOSED_CONSTRUCTION_PLAN, [])\n",
        "    return tool_success(APPROVED_CONSTRUCTION_PLAN, tool_context.state[APPROVED_CONSTRUCTION_PLAN])\n",
        "    "
      ]
    },
    {
      "cell_type": "code",
      "execution_count": null,
      "metadata": {},
      "outputs": [],
      "source": [
        "# Tool: Get Proposed construction Plan\n",
        "\n",
        "def get_proposed_construction_plan(tool_context:ToolContext) -> dict:\n",
        "    \"\"\"Get the proposed construction plan.\"\"\"\n",
        "    return tool_context.state.get(PROPOSED_CONSTRUCTION_PLAN, [])"
      ]
    },
    {
      "cell_type": "code",
      "execution_count": null,
      "metadata": {},
      "outputs": [],
      "source": [
        "# List of tools for the structured schema proposal agent\n",
        "structured_schema_proposal_agent_tools = [get_approved_user_goal, get_approved_files, propose_node_construction, propose_relationship_construction, get_proposed_construction_plan, approve_proposed_construction_plan ]"
      ]
    },
    {
      "cell_type": "markdown",
      "metadata": {},
      "source": [
        "### Construct the Agent"
      ]
    },
    {
      "cell_type": "code",
      "execution_count": null,
      "metadata": {},
      "outputs": [],
      "source": [
        "# Finally, construct the agent\n",
        "\n",
        "structured_schema_proposal_agent = Agent(\n",
        "    name=\"structured_schema_proposal_agent_v1\",\n",
        "    model=llm, # defined earlier in a variable\n",
        "    description=\"Proposes a knowledge graph schema based on the user goal and approved file list.\",\n",
        "    instruction=structured_schema_proposal_agent_instruction,\n",
        "    tools=structured_schema_proposal_agent_tools,\n",
        ")\n",
        "\n",
        "print(f\"Agent '{structured_schema_proposal_agent.name}' created.\")"
      ]
    },
    {
      "cell_type": "markdown",
      "metadata": {
        "id": "5zKGVwRkSduA"
      },
      "source": [
        "---\n",
        "\n",
        "## Interact with the Agent\n",
        "\n"
      ]
    },
    {
      "cell_type": "code",
      "execution_count": null,
      "metadata": {
        "id": "yZJr8lbkSebH"
      },
      "outputs": [],
      "source": [
        "# Define an Agent Caller Utility\n",
        "# This will provide a simple \"call\" interface and access to the session\n",
        "\n",
        "from helpers import make_agent_caller\n",
        "\n",
        "structured_schema_proposal_caller = make_agent_caller(structured_schema_proposal_agent, {\n",
        "    \"approved_user_goal\": {\n",
        "        \"kind_of_graph\": \"movie graph\", # TODO: change to a BOM graph\n",
        "        \"description\": \"Movies, actors and acted-in relationships for study of co-acting group behaviors.\"\n",
        "    },\n",
        "    \"approved_files\": ['acting_roles.csv', 'actors.csv', 'movies.csv']\n",
        "})\n"
      ]
    },
    {
      "cell_type": "code",
      "execution_count": null,
      "metadata": {
        "id": "mEd2QhHyUKY8"
      },
      "outputs": [],
      "source": [
        "# Run the Initial Conversation\n",
        "await structured_schema_proposal_caller.call(\"How can these files be imported?\", True)\n",
        "\n",
        "print(\"Proposed construction plan: \", structured_schema_proposal_caller.session.state[PROPOSED_CONSTRUCTION_PLAN])\n"
      ]
    },
    {
      "cell_type": "code",
      "execution_count": null,
      "metadata": {},
      "outputs": [],
      "source": [
        "# Agree with the file suggestions\n",
        "await structured_schema_proposal_caller.call(\"Yes, let's do it!\", True)\n",
        "\n",
        "print(\"Approved construction plan: \", structured_schema_proposal_caller.session.state[APPROVED_CONSTRUCTION_PLAN])\n",
        "\n"
      ]
    },
    {
      "cell_type": "markdown",
      "metadata": {
        "id": "xbUzAGvsmB2a"
      },
      "source": [
        "---\n",
        "\n",
        "Congratulations\\! You've created a basic human-in-the-loop interaction, with a structured result.\n"
      ]
    },
    {
      "cell_type": "markdown",
      "metadata": {},
      "source": [
        "---\n",
        "## Bonus, An Interactive Conversation\n",
        "\n",
        "Now, let's make this interactive so you can ask your own questions! Run the cell below. It will prompt you to enter your queries directly."
      ]
    },
    {
      "cell_type": "code",
      "execution_count": null,
      "metadata": {},
      "outputs": [],
      "source": [
        "async def run_interactive_conversation():\n",
        "    while True:\n",
        "        user_query = input(\"Ask me something (or type 'exit' to quit): \")\n",
        "        if user_query.lower() == 'exit':\n",
        "            break\n",
        "        response = await file_suggestion_caller.call(user_query, True)\n",
        "        print(f\"Response: {response}\")\n",
        "\n",
        "# Execute the interactive conversation\n",
        "await run_interactive_conversation()"
      ]
    },
    {
      "cell_type": "code",
      "execution_count": null,
      "metadata": {},
      "outputs": [],
      "source": []
    }
  ],
  "metadata": {
    "colab": {
      "provenance": [],
      "toc_visible": true
    },
    "kernelspec": {
      "display_name": ".venv",
      "language": "python",
      "name": "python3"
    },
    "language_info": {
      "codemirror_mode": {
        "name": "ipython",
        "version": 3
      },
      "file_extension": ".py",
      "mimetype": "text/x-python",
      "name": "python",
      "nbconvert_exporter": "python",
      "pygments_lexer": "ipython3",
      "version": "3.12.9"
    }
  },
  "nbformat": 4,
  "nbformat_minor": 0
}
