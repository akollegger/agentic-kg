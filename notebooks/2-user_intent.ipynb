{
  "cells": [
    {
      "cell_type": "markdown",
      "metadata": {
        "id": "Np0plMPXRvoq"
      },
      "source": [
        "# User Intent\n",
        "\n",
        "The first phase of knowledge graph begins with establishing user intent. You could call this graph ideation. "
      ]
    },
    {
      "cell_type": "markdown",
      "metadata": {},
      "source": [
        "## Setup\n",
        "\n",
        "The usual import of needed libraries, loading of environment variables, and connection to Neo4j."
      ]
    },
    {
      "cell_type": "code",
      "execution_count": 1,
      "metadata": {
        "id": "sbwxKypOSBkN"
      },
      "outputs": [
        {
          "name": "stdout",
          "output_type": "stream",
          "text": [
            "Libraries imported.\n"
          ]
        }
      ],
      "source": [
        "# Import necessary libraries\n",
        "import os\n",
        "from google.adk.agents import Agent\n",
        "from google.adk.models.lite_llm import LiteLlm # For OpenAI support\n",
        "from google.adk.sessions import InMemorySessionService\n",
        "from google.adk.runners import Runner\n",
        "from google.adk.tools import ToolContext\n",
        "from google.genai import types # For creating message Content/Parts\n",
        "\n",
        "# Convenience libraries for working with Neo4j inside of Google ADK\n",
        "from neo4j_for_adk import graphdb, tool_success, tool_error\n",
        "\n",
        "import warnings\n",
        "# Ignore all warnings\n",
        "warnings.filterwarnings(\"ignore\")\n",
        "\n",
        "import logging\n",
        "logging.basicConfig(level=logging.CRITICAL)\n",
        "\n",
        "print(\"Libraries imported.\")"
      ]
    },
    {
      "cell_type": "code",
      "execution_count": 2,
      "metadata": {
        "id": "MI_qvZJrSJuR"
      },
      "outputs": [
        {
          "name": "stdout",
          "output_type": "stream",
          "text": [
            "ModelResponse(id='chatcmpl-Bcr6rLbVr8zPm6lk6hufjwk89SS93', created=1748600317, model='gpt-4o-2024-08-06', object='chat.completion', system_fingerprint='fp_07871e2ad8', choices=[Choices(finish_reason='stop', index=0, message=Message(content=\"Yes, I'm ready! How can I assist you today?\", role='assistant', tool_calls=None, function_call=None, provider_specific_fields={'refusal': None}, annotations=[]))], usage=Usage(completion_tokens=13, prompt_tokens=27, total_tokens=40, completion_tokens_details=CompletionTokensDetailsWrapper(accepted_prediction_tokens=0, audio_tokens=0, reasoning_tokens=0, rejected_prediction_tokens=0, text_tokens=None), prompt_tokens_details=PromptTokensDetailsWrapper(audio_tokens=0, cached_tokens=0, text_tokens=None, image_tokens=None)), service_tier='default')\n",
            "\n",
            "Environment configured.\n"
          ]
        }
      ],
      "source": [
        "# --- Define Model Constants for easier use ---\n",
        "MODEL_GPT_4O = \"openai/gpt-4o\"\n",
        "\n",
        "llm = LiteLlm(model=MODEL_GPT_4O)\n",
        "\n",
        "# Test LLM with a direct call\n",
        "print(llm.llm_client.completion(model=llm.model, messages=[{\"role\": \"user\", \"content\": \"Are you ready?\"}], tools=[]))\n",
        "\n",
        "print(\"\\nEnvironment configured.\")"
      ]
    },
    {
      "cell_type": "code",
      "execution_count": 3,
      "metadata": {},
      "outputs": [
        {
          "name": "stdout",
          "output_type": "stream",
          "text": [
            "{'status': 'success', 'query_result': [{'message': 'Neo4j is Ready!'}]}\n"
          ]
        }
      ],
      "source": [
        "# Check connection to Neo4j by sending a query\n",
        "\n",
        "neo4j_is_ready = graphdb.send_query(\"RETURN 'Neo4j is Ready!' as message\")\n",
        "\n",
        "print(neo4j_is_ready)"
      ]
    },
    {
      "cell_type": "markdown",
      "metadata": {
        "id": "hAM0BqGWSTo5"
      },
      "source": [
        "---\n",
        "\n",
        "## Define the User Intent Agent (`user_intent_agent`)\n",
        "\n",
        "Input: nothing\n",
        "Output: `user_goal`, a dictionary pairing a kind of graph with a description of the purpose of the graph.\n",
        "\n",
        "Configuration:\n",
        "\n",
        "* `name`: A unique identifier for this agent -- \"user_intent_agent_v1\"\n",
        "* `description`: A concise summary of the agent's overall purpose. This becomes crucial later when other agents need to decide whether to delegate tasks to *this* agent.  \n",
        "* `instruction`: Detailed guidance for the LLM on how to behave, its persona, its goals, and specifically *how and when* to utilize its assigned `tools`.  \n",
        "* `tools`: A list of tools the agent is allowed to use. In this case, we have `get_user_goal` and `set_user_goal`.\n",
        "\n"
      ]
    },
    {
      "cell_type": "code",
      "execution_count": 4,
      "metadata": {},
      "outputs": [],
      "source": [
        "# First, define the instruction to describe what the agent should do\n",
        "user_intent_agent_instruction = \"\"\"\n",
        "        You are an expert at knowledge graph use cases. \n",
        "        Your primary goal is to help the user come up with a knowledge graph use case.\n",
        "        Knowledge graph use cases appear in all industries. Wherever there is data, there's probably a graph.\n",
        "        \n",
        "        If the user is unsure where to do, make some suggestions based on classic use cases like:\n",
        "        - social network involving friends, family, or profressional relationships\n",
        "        - logistics network with suppliers, customers, and partners\n",
        "        - recommendation system with customers, products, and purchase patterns\n",
        "        - fraud detection over multiple accounts with suspicious patterns of transactions\n",
        "        - pop-culture graphs with movies, books, or music\n",
        "\n",
        "        A user goal has two components:\n",
        "        - kind_of_graph: at most 3 words describing the graph, for example \"social network\" or \"USA freight logistics\"\n",
        "        - description: a few sentences about the intention of the graph, for example \"A dynamic routing and delivery system for cargo.\" or \"Analysis of product dependencies and supplier alternatives.\"\n",
        "\n",
        "        Think carefully and collaborate with the user:\n",
        "        1. Understand the user's goal, which is a kind_of_graph with description\n",
        "        2. Ask clarifying questions as needed\n",
        "        3. When you think you understand their goal, use the 'set_perceived_user_goal' tool to record it\n",
        "        4. Verify with the user that the perceived user goal matches their expectations\n",
        "        5. If the user agrees, use the 'approve_perceived_user_goal' tool to approve the user goal. This will save the goal in state under the 'approved_user_goal' key.\n",
        "        \"\"\"\n"
      ]
    },
    {
      "cell_type": "code",
      "execution_count": 5,
      "metadata": {},
      "outputs": [],
      "source": [
        "#  Define the tools for the User Intent Agent\n",
        "\n",
        "def set_perceived_user_goal(kind_of_graph: str, graph_description:str, tool_context: ToolContext):\n",
        "    \"\"\"Sets the user's goal, including the kind of graph and its description.\n",
        "    \n",
        "    Args:\n",
        "        kind_of_graph: 2-3 word definition of the kind of graph, for example \"recent US patents\"\n",
        "        graph_description: a single paragraph description of the graph, summarizing the user's intent\n",
        "    \"\"\"\n",
        "    user_goal_data = {\"kind_of_graph\": kind_of_graph, \"graph_description\": graph_description}\n",
        "    tool_context.state[\"perceived_user_goal\"] = user_goal_data\n",
        "    print(\"User's goal set:\", user_goal_data)\n",
        "    return tool_success(\"perceived_user_goal\", user_goal_data)\n",
        "\n",
        "\n",
        "\n",
        "def approve_perceived_user_goal(tool_context: ToolContext):\n",
        "    \"\"\"Approves the user's goal, including the kind of graph and its description.\"\"\"\n",
        "    if \"perceived_user_goal\" not in tool_context.state:\n",
        "        return tool_error(\"perceived_user_goal not set. Ask the user to clarify their goal (kind of graph and description).\")\n",
        "    \n",
        "    tool_context.state[\"approved_user_goal\"] = tool_context.state[\"perceived_user_goal\"]\n",
        "    print(\"User's goal approved:\", tool_context.state[\"approved_user_goal\"])\n",
        "    return tool_success(\"approved_user_goal\", tool_context.state[\"approved_user_goal\"])\n",
        "\n",
        "\n",
        "user_intent_agent_tools = [set_perceived_user_goal, approve_perceived_user_goal]"
      ]
    },
    {
      "cell_type": "code",
      "execution_count": 6,
      "metadata": {},
      "outputs": [
        {
          "name": "stdout",
          "output_type": "stream",
          "text": [
            "Agent 'user_intent_agent_v1' created.\n"
          ]
        }
      ],
      "source": [
        "# Finally, construct the agent\n",
        "\n",
        "user_intent_agent = Agent(\n",
        "    name=\"user_intent_agent_v1\",\n",
        "    model=llm, # defined earlier in a variable\n",
        "    description=\"Helps the user ideate on a knowledge graph use case.\",\n",
        "    instruction=user_intent_agent_instruction,\n",
        "    tools=user_intent_agent_tools,\n",
        ")\n",
        "\n",
        "print(f\"Agent '{user_intent_agent.name}' created.\")"
      ]
    },
    {
      "cell_type": "markdown",
      "metadata": {
        "id": "5zKGVwRkSduA"
      },
      "source": [
        "---\n",
        "\n",
        "## Interact with the Agent\n",
        "\n"
      ]
    },
    {
      "cell_type": "code",
      "execution_count": 7,
      "metadata": {
        "id": "yZJr8lbkSebH"
      },
      "outputs": [],
      "source": [
        "# Define an Agent Caller Utility\n",
        "# This will provide a simple \"call\" interface and access to the session\n",
        "\n",
        "from helpers import make_agent_caller\n",
        "\n",
        "user_intent_caller = make_agent_caller(user_intent_agent)\n"
      ]
    },
    {
      "cell_type": "code",
      "execution_count": 8,
      "metadata": {
        "id": "mEd2QhHyUKY8"
      },
      "outputs": [
        {
          "name": "stdout",
          "output_type": "stream",
          "text": [
            "\n",
            ">>> User Query: I'd like a bill of materials graph (BOM graph) which includes parts, components, suppliers and geographies, which helps make supply chain recommendations.\n",
            "  [Event] Author: user_intent_agent_v1, Type: Event, Final: False, Content: parts=[Part(video_metadata=None, thought=None, inline_data=None, code_execution_result=None, executable_code=None, file_data=None, function_call=FunctionCall(id='call_QdRueEVwiWCmuErQBwgkxyI9', args={'kind_of_graph': 'BOM supply chain', 'graph_description': 'A graph that includes parts, components, suppliers, and geographies to make supply chain recommendations.'}, name='set_perceived_user_goal'), function_response=None, text=None)] role='model'\n",
            "User's goal set: {'kind_of_graph': 'BOM supply chain', 'graph_description': 'A graph that includes parts, components, suppliers, and geographies to make supply chain recommendations.'}\n",
            "  [Event] Author: user_intent_agent_v1, Type: Event, Final: False, Content: parts=[Part(video_metadata=None, thought=None, inline_data=None, code_execution_result=None, executable_code=None, file_data=None, function_call=None, function_response=FunctionResponse(id='call_QdRueEVwiWCmuErQBwgkxyI9', name='set_perceived_user_goal', response={'status': 'success', 'perceived_user_goal': {'kind_of_graph': 'BOM supply chain', 'graph_description': 'A graph that includes parts, components, suppliers, and geographies to make supply chain recommendations.'}}), text=None)] role='user'\n",
            "  [Event] Author: user_intent_agent_v1, Type: Event, Final: True, Content: parts=[Part(video_metadata=None, thought=None, inline_data=None, code_execution_result=None, executable_code=None, file_data=None, function_call=None, function_response=None, text='I\\'ve set the perceived user goal as a \"BOM supply chain\" graph, which includes parts, components, suppliers, and geographies to help make supply chain recommendations. Does this match your expectations?')] role='model'\n",
            "\n",
            "  [Session State]: {'perceived_user_goal': {'kind_of_graph': 'BOM supply chain', 'graph_description': 'A graph that includes parts, components, suppliers, and geographies to make supply chain recommendations.'}}\n",
            "<<< Agent Response: I've set the perceived user goal as a \"BOM supply chain\" graph, which includes parts, components, suppliers, and geographies to help make supply chain recommendations. Does this match your expectations?\n",
            "\n",
            ">>> User Query: Approve that goal.\n",
            "  [Event] Author: user_intent_agent_v1, Type: Event, Final: False, Content: parts=[Part(video_metadata=None, thought=None, inline_data=None, code_execution_result=None, executable_code=None, file_data=None, function_call=FunctionCall(id='call_Hg0RvbBWo8E9cKEfFmxLqdmX', args={}, name='approve_perceived_user_goal'), function_response=None, text=None)] role='model'\n",
            "User's goal approved: {'kind_of_graph': 'BOM supply chain', 'graph_description': 'A graph that includes parts, components, suppliers, and geographies to make supply chain recommendations.'}\n",
            "  [Event] Author: user_intent_agent_v1, Type: Event, Final: False, Content: parts=[Part(video_metadata=None, thought=None, inline_data=None, code_execution_result=None, executable_code=None, file_data=None, function_call=None, function_response=FunctionResponse(id='call_Hg0RvbBWo8E9cKEfFmxLqdmX', name='approve_perceived_user_goal', response={'status': 'success', 'approved_user_goal': {'kind_of_graph': 'BOM supply chain', 'graph_description': 'A graph that includes parts, components, suppliers, and geographies to make supply chain recommendations.'}}), text=None)] role='user'\n",
            "  [Event] Author: user_intent_agent_v1, Type: Event, Final: True, Content: parts=[Part(video_metadata=None, thought=None, inline_data=None, code_execution_result=None, executable_code=None, file_data=None, function_call=None, function_response=None, text='The goal has been approved successfully. Your focus will be on a \"BOM supply chain\" graph to make supply chain recommendations. If you need further assistance or want to explore more, feel free to let me know!')] role='model'\n",
            "\n",
            "  [Session State]: {'perceived_user_goal': {'kind_of_graph': 'BOM supply chain', 'graph_description': 'A graph that includes parts, components, suppliers, and geographies to make supply chain recommendations.'}, 'approved_user_goal': {'kind_of_graph': 'BOM supply chain', 'graph_description': 'A graph that includes parts, components, suppliers, and geographies to make supply chain recommendations.'}}\n",
            "<<< Agent Response: The goal has been approved successfully. Your focus will be on a \"BOM supply chain\" graph to make supply chain recommendations. If you need further assistance or want to explore more, feel free to let me know!\n"
          ]
        }
      ],
      "source": [
        "# Run the Initial Conversation\n",
        "\n",
        "# We need an async function to await our interaction helper\n",
        "async def run_conversation():\n",
        "    await user_intent_caller.call(\"I'd like a bill of materials graph (BOM graph) which includes parts, components, suppliers and geographies, which helps make supply chain recommendations.\", True)\n",
        "    # Presume approval\n",
        "    await user_intent_caller.call(\"Approve that goal.\", True)\n",
        "\n",
        "await run_conversation()\n"
      ]
    },
    {
      "cell_type": "markdown",
      "metadata": {
        "id": "xbUzAGvsmB2a"
      },
      "source": [
        "---\n",
        "\n",
        "Congratulations\\! You've created a basic human-in-the-loop interaction, with a structured result.\n"
      ]
    },
    {
      "cell_type": "markdown",
      "metadata": {},
      "source": [
        "---\n",
        "## Bonus, An Interactive Conversation\n",
        "\n",
        "Now, let's make this interactive so you can ask your own questions! Run the cell below. It will prompt you to enter your queries directly."
      ]
    },
    {
      "cell_type": "code",
      "execution_count": null,
      "metadata": {},
      "outputs": [],
      "source": [
        "async def run_interactive_conversation():\n",
        "    while True:\n",
        "        user_query = input(\"Ask me something (or type 'exit' to quit): \")\n",
        "        if user_query.lower() == 'exit':\n",
        "            break\n",
        "        response = await user_intent_caller.call(user_query, True)\n",
        "        print(f\"Response: {response}\")\n",
        "\n",
        "# Execute the interactive conversation\n",
        "await run_interactive_conversation()"
      ]
    },
    {
      "cell_type": "code",
      "execution_count": null,
      "metadata": {},
      "outputs": [],
      "source": []
    }
  ],
  "metadata": {
    "colab": {
      "provenance": [],
      "toc_visible": true
    },
    "kernelspec": {
      "display_name": ".venv",
      "language": "python",
      "name": "python3"
    },
    "language_info": {
      "codemirror_mode": {
        "name": "ipython",
        "version": 3
      },
      "file_extension": ".py",
      "mimetype": "text/x-python",
      "name": "python",
      "nbconvert_exporter": "python",
      "pygments_lexer": "ipython3",
      "version": "3.12.9"
    }
  },
  "nbformat": 4,
  "nbformat_minor": 0
}
