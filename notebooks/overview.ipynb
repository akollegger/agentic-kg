{
 "cells": [
  {
   "cell_type": "markdown",
   "id": "df3107d4",
   "metadata": {},
   "source": [
    "<img src=\"images/kg_construction_flow.png\" alt=\"KG Construction Flow\" />\n"
   ]
  },
  {
   "cell_type": "markdown",
   "id": "28a3b899",
   "metadata": {},
   "source": [
    "## Knowledge Graph Construction Workflow\n",
    "\n",
    "1. User Intent\n",
    "    - A goal-oriented, conversational agent that helps the user ideate on the kind of graph to build.\n",
    "    - Requires: nothing\n",
    "    - Produces: `user_goal`, a dictionary pairing a kind of graph with a description of the purpose of the graph.\n",
    "2. File Suggestions\n",
    "    - Evaluates available data files, looking for files that are relevant to the user goal.\n",
    "    - Makes suggestions to the user, seeking their approval before continuing\n",
    "    - Requires: `user_goal`\n",
    "    - Produces: `approved_files`, an approved list of files to use for the graph construction.\n",
    "3. Schema Proposal\n",
    "    - Proposes a schema for the graph, based on the approved files.\n",
    "    - Requires: `user_goal`, `approved_files`\n",
    "    - Produces: `approved_schema`, a dictionary defining the schema for the graph.\n",
    "4. Graph Construction\n",
    "    - Constructs the graph based on the approved schema and files.\n",
    "    - Requires: `user_goal`, `approved_files`, `approved_schema`\n",
    "    - Produces: `knowledge_graph`, a knowledge graph based on the approved schema and files that satisfies the user goal.\n",
    "\n",
    "\n"
   ]
  }
 ],
 "metadata": {
  "language_info": {
   "name": "python"
  }
 },
 "nbformat": 4,
 "nbformat_minor": 5
}
