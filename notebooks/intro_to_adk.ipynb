{
  "cells": [
    {
      "cell_type": "markdown",
      "metadata": {
        "id": "Np0plMPXRvoq"
      },
      "source": [
        "# Google ADK Notebook Template\n",
        "\n",
        "This notebook assumes to use a local venv.\n",
        "\n",
        "General steps:\n",
        "1. Setup environment (use local venv)\n",
        "2. Check that environment is working (including connection to Neo4j)\n",
        "3. Define tool(s)\n",
        "4. Define agent(s)\n",
        "5. Demonstrate interaction"
      ]
    },
    {
      "cell_type": "markdown",
      "metadata": {},
      "source": [
        "## Setup"
      ]
    },
    {
      "cell_type": "code",
      "execution_count": 1,
      "metadata": {
        "id": "sbwxKypOSBkN"
      },
      "outputs": [
        {
          "name": "stdout",
          "output_type": "stream",
          "text": [
            "Libraries imported.\n"
          ]
        }
      ],
      "source": [
        "# Import necessary libraries\n",
        "import os\n",
        "from google.adk.agents import Agent\n",
        "from google.adk.models.lite_llm import LiteLlm # For OpenAI support\n",
        "from google.adk.sessions import InMemorySessionService\n",
        "from google.adk.runners import Runner\n",
        "from google.genai import types # For creating message Content/Parts\n",
        "\n",
        "import warnings\n",
        "# Ignore all warnings\n",
        "warnings.filterwarnings(\"ignore\")\n",
        "\n",
        "import logging\n",
        "logging.basicConfig(level=logging.CRITICAL)\n",
        "\n",
        "print(\"Libraries imported.\")"
      ]
    },
    {
      "cell_type": "code",
      "execution_count": 2,
      "metadata": {
        "id": "3mNsVI5eSDOi"
      },
      "outputs": [
        {
          "name": "stdout",
          "output_type": "stream",
          "text": [
            "Connecting to Neo4j at: neo4j@bolt://localhost:7687/neo4j\n"
          ]
        }
      ],
      "source": [
        "# Load environment\n",
        "import os \n",
        "\n",
        "from dotenv import load_dotenv\n",
        "load_dotenv()\n",
        "from google.adk.models.lite_llm import LiteLlm\n",
        "\n",
        "valid_openai_api_key = os.environ.get('OPENAI_API_KEY')\n",
        "neo4j_uri = os.getenv(\"NEO4J_URI\")\n",
        "neo4j_username = os.getenv(\"NEO4J_USERNAME\") or \"neo4j\"\n",
        "neo4j_password = os.getenv(\"NEO4J_PASSWORD\")\n",
        "neo4j_database = os.getenv(\"NEO4J_DATABASE\") or os.getenv(\"NEO4J_USERNAME\") or \"neo4j\"\n",
        "\n",
        "print(\"Connecting to Neo4j at: \" + f\"{neo4j_username}@{neo4j_uri}/{neo4j_database}\")"
      ]
    },
    {
      "cell_type": "code",
      "execution_count": 3,
      "metadata": {
        "id": "MI_qvZJrSJuR"
      },
      "outputs": [
        {
          "name": "stdout",
          "output_type": "stream",
          "text": [
            "\n",
            "Environment configured.\n"
          ]
        }
      ],
      "source": [
        "# --- Define Model Constants for easier use ---\n",
        "MODEL_GPT_4O = \"openai/gpt-4o\"\n",
        "\n",
        "llm = LiteLlm(model=MODEL_GPT_4O)\n",
        "\n",
        "print(\"\\nEnvironment configured.\")"
      ]
    },
    {
      "cell_type": "code",
      "execution_count": 4,
      "metadata": {},
      "outputs": [
        {
          "name": "stdout",
          "output_type": "stream",
          "text": [
            "{'status': 'success', 'query_result': [{'message': 'Neo4j is Ready!'}]}\n"
          ]
        }
      ],
      "source": [
        "# Check connection to Neo4j by sending a query\n",
        "from neo4j_for_adk import graphdb\n",
        "\n",
        "neo4j_is_ready = graphdb.send_query(\"RETURN 'Neo4j is Ready!' as message\")\n",
        "\n",
        "print(neo4j_is_ready)"
      ]
    },
    {
      "cell_type": "code",
      "execution_count": 5,
      "metadata": {
        "id": "ILy7YTCbSRAT"
      },
      "outputs": [
        {
          "name": "stdout",
          "output_type": "stream",
          "text": [
            "{'status': 'success', 'query_result': [{'reply': 'Hello to you, ABK'}]}\n"
          ]
        }
      ],
      "source": [
        "# Define a basic tool -- send a parameterized cypher query\n",
        "def say_hello(from_name: str) -> dict:\n",
        "    \"\"\"Sends a welcome message to Neo4j from a named person. \n",
        "\n",
        "    Args:\n",
        "        name (str): the name of the person saying hello\n",
        "\n",
        "    Returns:\n",
        "        dict: A dictionary containing the results of the query.\n",
        "              Includes a 'status' key ('success' or 'error').\n",
        "              If 'success', includes a 'query_result' key with an array of result rows.\n",
        "              If 'error', includes an 'error_message' key.\n",
        "    \"\"\"\n",
        "    return graphdb.send_query(\"RETURN 'Hello to you, ' + $from_name AS reply\",\n",
        "    {\n",
        "        \"from_name\": from_name\n",
        "    })\n",
        "\n",
        "# Example tool usage (optional test)\n",
        "print(say_hello(\"ABK\"))\n"
      ]
    },
    {
      "cell_type": "markdown",
      "metadata": {
        "id": "hAM0BqGWSTo5"
      },
      "source": [
        "---\n",
        "\n",
        "**2\\. Define the Agent (`cypher_agent`)**\n",
        "\n",
        "Create the **Agent** itself. An `Agent` in ADK orchestrates the interaction between the user, the LLM, and the available tools.\n",
        "\n",
        "We configure it with several key parameters:\n",
        "\n",
        "* `name`: A unique identifier for this agent (e.g., \"cypher\\_agent\\_v1\").  \n",
        "* `model`: Specifies which LLM to use. We'll start with the `llm` variable we defined above.  \n",
        "* `description`: A concise summary of the agent's overall purpose. This becomes crucial later when other agents need to decide whether to delegate tasks to *this* agent.  \n",
        "* `instruction`: Detailed guidance for the LLM on how to behave, its persona, its goals, and specifically *how and when* to utilize its assigned `tools`.  \n",
        "* `tools`: A list containing the actual Python tool functions the agent is allowed to use (e.g., `[hello_cypher]`).\n",
        "\n",
        "**Best Practice:** Provide clear and specific `instruction` prompts. The more detailed the instructions, the better the LLM can understand its role and how to use its tools effectively. Be explicit about error handling if needed.\n",
        "\n",
        "**Best Practice:** Choose descriptive `name` and `description` values. These are used internally by ADK and are vital for features like automatic delegation (covered later)."
      ]
    },
    {
      "cell_type": "code",
      "execution_count": 6,
      "metadata": {
        "id": "6Ho1COmKSUeV"
      },
      "outputs": [
        {
          "name": "stdout",
          "output_type": "stream",
          "text": [
            "Agent 'friendly_cypher_agent_v1' created.\n"
          ]
        }
      ],
      "source": [
        "# Define the Cypher Agent\n",
        "\n",
        "friendly_cypher_agent = Agent(\n",
        "    name=\"friendly_cypher_agent_v1\",\n",
        "    model=llm, # defined earlier in a variable\n",
        "    description=\"Has friendly chats with Neo4j through Cypher.\",\n",
        "    instruction=\"\"\"You are a helpful Neo4j assistant, helping a user chat with a graph by using Cypher. \n",
        "                Be polite and friendly, introducing yourself and asking who the user is. \n",
        "                If the user provides their name, use the 'hello_cypher' tool\n",
        "                to get a greeting from Neo4j on their behalf.\n",
        "                If the tool returns an error, inform the user politely. \n",
        "                If the tool is successful, present the reply from Neo4j.\n",
        "                \"\"\",\n",
        "    tools=[say_hello], # Pass the function directly\n",
        ")\n",
        "\n",
        "print(f\"Agent '{friendly_cypher_agent.name}' created.\")"
      ]
    },
    {
      "cell_type": "markdown",
      "metadata": {
        "id": "Dvz7LDhbSZxL"
      },
      "source": [
        "---\n",
        "\n",
        "**3\\. Setup Runner and Session Service**\n",
        "\n",
        "To manage conversations and execute the agent, we need two more components:\n",
        "\n",
        "* `SessionService`: Responsible for managing conversation history and state for different users and sessions. The `InMemorySessionService` is a simple implementation that stores everything in memory, suitable for testing and simple applications. It keeps track of the messages exchanged. We'll explore state persistence more in Step 4\\.  \n",
        "* `Runner`: The engine that orchestrates the interaction flow. It takes user input, routes it to the appropriate agent, manages calls to the LLM and tools based on the agent's logic, handles session updates via the `SessionService`, and yields events representing the progress of the interaction."
      ]
    },
    {
      "cell_type": "code",
      "execution_count": 7,
      "metadata": {
        "id": "h30dNtqMSah5"
      },
      "outputs": [
        {
          "name": "stdout",
          "output_type": "stream",
          "text": [
            "Session created: App='hello_cypher_app', User='user_abk', Session='session_001'\n",
            "Runner created for agent 'friendly_cypher_agent_v1'.\n"
          ]
        }
      ],
      "source": [
        "# @title Setup Session Service and Runner\n",
        "\n",
        "# --- Session Management ---\n",
        "# Key Concept: SessionService stores conversation history & state.\n",
        "# InMemorySessionService is simple, non-persistent storage for this tutorial.\n",
        "session_service = InMemorySessionService()\n",
        "\n",
        "# Define constants for identifying the interaction context\n",
        "APP_NAME = \"hello_cypher_app\"\n",
        "USER_ID = \"user_abk\"\n",
        "SESSION_ID = \"session_001\" # Using a fixed ID for simplicity\n",
        "\n",
        "# Create the specific session where the conversation will happen\n",
        "session = session_service.create_session(\n",
        "    app_name=APP_NAME,\n",
        "    user_id=USER_ID,\n",
        "    session_id=SESSION_ID\n",
        ")\n",
        "print(f\"Session created: App='{APP_NAME}', User='{USER_ID}', Session='{SESSION_ID}'\")\n",
        "\n",
        "# --- Runner ---\n",
        "# Key Concept: Runner orchestrates the agent execution loop.\n",
        "runner = Runner(\n",
        "    agent=friendly_cypher_agent, # The agent we want to run\n",
        "    app_name=APP_NAME,   # Associates runs with our app\n",
        "    session_service=session_service # Uses our session manager\n",
        ")\n",
        "print(f\"Runner created for agent '{runner.agent.name}'.\")"
      ]
    },
    {
      "cell_type": "markdown",
      "metadata": {
        "id": "5zKGVwRkSduA"
      },
      "source": [
        "---\n",
        "\n",
        "**4\\. Interact with the Agent**\n",
        "\n",
        "We need a way to send messages to our agent and receive its responses. Since LLM calls and tool executions can take time, ADK's `Runner` operates asynchronously.\n",
        "\n",
        "We'll define an `async` helper function (`call_agent_async`) that:\n",
        "\n",
        "1. Takes a user query string.  \n",
        "2. Packages it into the ADK `Content` format.  \n",
        "3. Calls `runner.run_async`, providing the user/session context and the new message.  \n",
        "4. Iterates through the **Events** yielded by the runner. Events represent steps in the agent's execution (e.g., tool call requested, tool result received, intermediate LLM thought, final response).  \n",
        "5. Identifies and prints the **final response** event using `event.is_final_response()`.\n",
        "\n",
        "**Why `async`?** Interactions with LLMs and potentially tools (like external APIs) are I/O-bound operations. Using `asyncio` allows the program to handle these operations efficiently without blocking execution."
      ]
    },
    {
      "cell_type": "code",
      "execution_count": 8,
      "metadata": {
        "id": "yZJr8lbkSebH"
      },
      "outputs": [],
      "source": [
        "# @title Define Agent Interaction Function\n",
        "\n",
        "from google.genai import types # For creating message Content/Parts\n",
        "\n",
        "async def call_agent_async(query: str, runner, user_id, session_id):\n",
        "  \"\"\"Sends a query to the agent and prints the final response.\"\"\"\n",
        "  print(f\"\\n>>> User Query: {query}\")\n",
        "\n",
        "  # Prepare the user's message in ADK format\n",
        "  content = types.Content(role='user', parts=[types.Part(text=query)])\n",
        "\n",
        "  final_response_text = \"Agent did not produce a final response.\" # Default\n",
        "\n",
        "  # Key Concept: run_async executes the agent logic and yields Events.\n",
        "  # We iterate through events to find the final answer.\n",
        "  async for event in runner.run_async(user_id=user_id, session_id=session_id, new_message=content):\n",
        "      # You can uncomment the line below to see *all* events during execution\n",
        "      # print(f\"  [Event] Author: {event.author}, Type: {type(event).__name__}, Final: {event.is_final_response()}, Content: {event.content}\")\n",
        "\n",
        "      # Key Concept: is_final_response() marks the concluding message for the turn.\n",
        "      if event.is_final_response():\n",
        "          if event.content and event.content.parts:\n",
        "             # Assuming text response in the first part\n",
        "             final_response_text = event.content.parts[0].text\n",
        "          elif event.actions and event.actions.escalate: # Handle potential errors/escalations\n",
        "             final_response_text = f\"Agent escalated: {event.error_message or 'No specific message.'}\"\n",
        "          # Add more checks here if needed (e.g., specific error codes)\n",
        "          break # Stop processing events once the final response is found\n",
        "\n",
        "  print(f\"<<< Agent Response: {final_response_text}\")"
      ]
    },
    {
      "cell_type": "markdown",
      "metadata": {
        "id": "Z6DQSqrqk5ic"
      },
      "source": [
        "---\n",
        "\n",
        "**5\\. Run the Conversation**\n",
        "\n",
        "Let's test our setup by sending a few queries to the agent. We wrap our `async` calls in a main `async` function and run it using `await`.\n",
        "\n",
        "Watch the output:\n",
        "\n",
        "* See the user queries.  \n",
        "* Notice the `--- Tool: say_hello called... ---` logs when the agent uses the tool.  \n",
        "* Observe the agent's final responses, including how it handles the case when a user name is not provided."
      ]
    },
    {
      "cell_type": "code",
      "execution_count": 9,
      "metadata": {
        "id": "mEd2QhHyUKY8"
      },
      "outputs": [
        {
          "name": "stdout",
          "output_type": "stream",
          "text": [
            "\n",
            ">>> User Query: Hello I'm ABK\n",
            "<<< Agent Response: Neo4j says: \"Hello to you, ABK\". If there's anything specific you'd like to explore or ask about in Neo4j, feel free to let me know!\n",
            "\n",
            ">>> User Query: Hello I'm Emil\n",
            "<<< Agent Response: Neo4j says: \"Hello to you, Emil.\" If you have any questions or need assistance with Neo4j, feel free to ask!\n",
            "\n",
            ">>> User Query: I am excited\n",
            "<<< Agent Response: That's wonderful to hear, Emil! If there's anything specific that is making you excited or if you'd like to explore something interesting in Neo4j, just let me know. I'm here to help!\n"
          ]
        }
      ],
      "source": [
        "# @title Run the Initial Conversation\n",
        "\n",
        "# We need an async function to await our interaction helper\n",
        "async def run_conversation():\n",
        "    await call_agent_async(\"Hello I'm ABK\",\n",
        "                                       runner=runner,\n",
        "                                       user_id=USER_ID,\n",
        "                                       session_id=SESSION_ID)\n",
        "\n",
        "    await call_agent_async(\"Hello I'm Emil\",\n",
        "                                    runner=runner,\n",
        "                                    user_id=USER_ID,\n",
        "                                    session_id=SESSION_ID)\n",
        "\n",
        "    await call_agent_async(\"I am excited\",\n",
        "                                    runner=runner,\n",
        "                                    user_id=USER_ID,\n",
        "                                    session_id=SESSION_ID)\n",
        "\n",
        "# Execute the conversation using await in an async context (like Colab/Jupyter)\n",
        "await run_conversation()"
      ]
    },
    {
      "cell_type": "markdown",
      "metadata": {
        "id": "xbUzAGvsmB2a"
      },
      "source": [
        "---\n",
        "\n",
        "Congratulations\\! You've successfully built and interacted with your first ADK agent. It understands the user's request, uses a tool to find information, and responds appropriately based on the tool's result.\n",
        "\n",
        "Next, we'll build a simple multi-agent system."
      ]
    },
    {
      "cell_type": "markdown",
      "metadata": {
        "id": "tL5estZ_VKki"
      },
      "source": [
        "## A Simple Multi-Agent Team \\- Delegation for Greetings & Farewells\n",
        "\n",
        "Using multiple agents is a common pattern in real-world applications. It allows for better modularity, specialization, and scalability. Here's how it works:\n",
        "\n",
        "1. Creating multiple, **specialized agents**, each designed for a specific capability (e.g., one for greetings, one for querying a knowledge graph, another for GraphRAG retrieval).  \n",
        "2. Designating a **root agent** (or orchestrator or coordinator) that receives the initial user request.  \n",
        "3. Enabling the root agent to **delegate** the request to the most appropriate specialized sub-agent based on the user's intent.\n",
        "\n",
        "**Why build an Agent Team?**\n",
        "\n",
        "* **Modularity:** Easier to develop, test, and maintain individual agents.  \n",
        "* **Specialization:** Each agent can be fine-tuned (instructions, model choice) for its specific task.  \n",
        "* **Scalability:** Simpler to add new capabilities by adding new agents.  \n",
        "* **Efficiency:** Allows using potentially simpler/cheaper models for simpler tasks (like greetings).\n",
        "\n",
        "**To illustrate this, we will:**\n",
        "\n",
        "1. Define another simple tool for handling greetings (`say_hello`) and farewells (`say_goodbye`).  \n",
        "2. Create two new specialized sub-agents: `greeting_agent` and `farewell_agent`.  \n",
        "3. Update our main weather agent (`weather_agent_v2`) to act as the **root agent**.  \n",
        "4. Configure the root agent with its sub-agents, enabling **automatic delegation**.  \n",
        "5. Test the delegation flow by sending different types of requests to the root agent."
      ]
    },
    {
      "cell_type": "markdown",
      "metadata": {
        "id": "tLpXYXxppB4S"
      },
      "source": [
        "---\n",
        "\n",
        "**1\\. Define Tools for Sub-Agents**\n",
        "\n",
        "First, let's create the simple Python functions that will serve as tools for our new specialist agents. Remember, clear docstrings are vital for the agents that will use them."
      ]
    },
    {
      "cell_type": "code",
      "execution_count": 11,
      "metadata": {
        "id": "Qc7dHr4ZVM6X"
      },
      "outputs": [
        {
          "name": "stdout",
          "output_type": "stream",
          "text": [
            "{'status': 'success', 'query_result': [{'reply': 'Hello to you, Alice'}]}\n",
            "{'status': 'success', 'query_result': [{\"'Goodbye from Cypher!'\": 'Goodbye from Cypher!'}]}\n"
          ]
        }
      ],
      "source": [
        "# Define the new goodbye tool\n",
        "\n",
        "# Ensure 'say_hello' from earlier is available if running this step independently.\n",
        "# def say_hello(from_name: str) -> dict: ... \n",
        "\n",
        "def say_goodbye() -> str:\n",
        "    \"\"\"Provides a simple farewell message to conclude the conversation.\"\"\"\n",
        "    return graphdb.send_query(\"RETURN 'Goodbye from Cypher!'\")\n",
        "\n",
        "# Optional self-test\n",
        "print(say_hello(\"Alice\"))\n",
        "print(say_goodbye())"
      ]
    },
    {
      "cell_type": "markdown",
      "metadata": {
        "id": "lkv34_tMVPG3"
      },
      "source": [
        "---\n",
        "\n",
        "**2\\. Define the Sub-Agents (Greeting & Farewell)**\n",
        "\n",
        "Now, create the `Agent` instances for our specialists. Notice their highly focused `instruction` and, critically, their clear `description`. The `description` is the primary information the *root agent* uses to decide *when* to delegate to these sub-agents.\n",
        "\n",
        "We can even use different LLMs for these sub-agents\\! Let's assign GPT-4o to the Greeting Agent and keep the Farewell Agent using GPT-4o as well (you could easily switch one to Claude or Gemini if desired and API keys are set).\n",
        "\n",
        "**Best Practice:** Sub-agent `description` fields should accurately and concisely summarize their specific capability. This is crucial for effective automatic delegation.\n",
        "\n",
        "**Best Practice:** Sub-agent `instruction` fields should be tailored to their limited scope, telling them exactly what to do and *what not* to do (e.g., \"Your *only* task is...\")."
      ]
    },
    {
      "cell_type": "code",
      "execution_count": 12,
      "metadata": {
        "id": "tgT7P1doVRA0"
      },
      "outputs": [
        {
          "name": "stdout",
          "output_type": "stream",
          "text": [
            "✅ Agent 'greeting_agent' created.\n",
            "✅ Agent 'farewell_agent' created.\n"
          ]
        }
      ],
      "source": [
        "# Define Greeting and Farewell Sub-Agents\n",
        "\n",
        "# --- Greeting Agent ---\n",
        "greeting_agent = None\n",
        "try:\n",
        "    greeting_agent = Agent(\n",
        "        model=llm,\n",
        "        name=\"greeting_agent\",\n",
        "        instruction=\"You are the Greeting Agent. Your ONLY task is to provide a friendly greeting to the user. \"\n",
        "                    \"Use the 'say_hello' tool to generate the greeting. \"\n",
        "                    \"If the user provides their name, make sure to pass it to the tool. \"\n",
        "                    \"Do not engage in any other conversation or tasks.\",\n",
        "        description=\"Handles simple greetings and hellos using the 'say_hello' tool.\", # Crucial for delegation\n",
        "        tools=[say_hello],\n",
        "    )\n",
        "    print(f\"✅ Agent '{greeting_agent.name}' created.\")\n",
        "except Exception as e:\n",
        "    print(f\"❌ Could not create Greeting agent. Error: {e}\")\n",
        "\n",
        "# --- Farewell Agent ---\n",
        "farewell_agent = None\n",
        "try:\n",
        "    farewell_agent = Agent(\n",
        "        # Can use the same or a different model\n",
        "        model=llm, # Sticking with GPT for this example\n",
        "        name=\"farewell_agent\",\n",
        "        instruction=\"You are the Farewell Agent. Your ONLY task is to provide a polite goodbye message. \"\n",
        "                    \"Use the 'say_goodbye' tool when the user indicates they are leaving or ending the conversation \"\n",
        "                    \"(e.g., using words like 'bye', 'goodbye', 'thanks bye', 'see you'). \"\n",
        "                    \"Do not perform any other actions.\",\n",
        "        description=\"Handles simple farewells and goodbyes using the 'say_goodbye' tool.\", # Crucial for delegation\n",
        "        tools=[say_goodbye],\n",
        "    )\n",
        "    print(f\"✅ Agent '{farewell_agent.name}' created.\")\n",
        "except Exception as e:\n",
        "    print(f\"❌ Could not create Farewell agent. Error: {e}\")"
      ]
    },
    {
      "cell_type": "markdown",
      "metadata": {
        "id": "IFL_TLFPVS5P"
      },
      "source": [
        "---\n",
        "\n",
        "**3\\. Define the Root Agent (Cypher Agent v2) with Sub-Agents**\n",
        "\n",
        "Our `cypher_agent` is now a root agent with sub-agents. The key changes are:\n",
        "\n",
        "* Adding the `sub_agents` parameter: We pass a list containing the `greeting_agent` and `farewell_agent` instances we just created.  \n",
        "* Updating the `instruction`: We explicitly tell the root agent *about* its sub-agents and *when* it should delegate tasks to them.\n",
        "\n",
        "**Key Concept: Automatic Delegation (Auto Flow)** By providing the `sub_agents` list, ADK enables automatic delegation. When the root agent receives a user query, its LLM considers not only its own instructions and tools but also the `description` of each sub-agent. If the LLM determines that a query aligns better with a sub-agent's described capability (e.g., \"Handles simple greetings\"), it will automatically generate a special internal action to *transfer control* to that sub-agent for that turn. The sub-agent then processes the query using its own model, instructions, and tools.\n",
        "\n",
        "**Best Practice:** Ensure the root agent's instructions clearly guide its delegation decisions. Mention the sub-agents by name and describe the conditions under which delegation should occur."
      ]
    },
    {
      "cell_type": "code",
      "execution_count": 13,
      "metadata": {
        "id": "nniWunchVV8_"
      },
      "outputs": [
        {
          "name": "stdout",
          "output_type": "stream",
          "text": [
            "✅ Root Agent 'cypher_agent_v2' created with sub-agents: ['greeting_agent', 'farewell_agent']\n"
          ]
        }
      ],
      "source": [
        "# @title Define the Root Agent with Sub-Agents\n",
        "\n",
        "# Ensure sub-agents were created successfully before defining the root agent.\n",
        "root_agent = None\n",
        "runner_root = None # Initialize runner\n",
        "\n",
        "cypher_agent_team = Agent(\n",
        "    name=\"cypher_agent_v2\", # Give it a new version name\n",
        "    model=llm,\n",
        "    description=\"The main coordinator agent. Handles general questions about Neo4j and delegates greetings/farewells to specialists.\",\n",
        "    instruction=\"\"\"You are the main Cypher Agent coordinating a team. Your primary responsibility is to provide information about Neo4j. \n",
        "\n",
        "                You have specialized sub-agents: \n",
        "                1. 'greeting_agent': Handles simple greetings like 'Hi', 'Hello'. Delegate to it for these. \n",
        "                2. 'farewell_agent': Handles simple farewells like 'Bye', 'See you'. Delegate to it for these. \n",
        "                Analyze the user's query. If it's a greeting, delegate to 'greeting_agent'. If it's a farewell, delegate to 'farewell_agent'. \n",
        "                If it's a question about Neo4j, handle it yourself using your knowledge. \n",
        "                For anything else, respond appropriately or state you cannot handle it.\n",
        "                \"\"\",\n",
        "    tools=[], # No tools for the root agent\n",
        "    # Key change: Link the sub-agents here!\n",
        "    sub_agents=[greeting_agent, farewell_agent]\n",
        ")\n",
        "root_agent = cypher_agent_team\n",
        "print(f\"✅ Root Agent '{cypher_agent_team.name}' created with sub-agents: {[sa.name for sa in cypher_agent_team.sub_agents]}\")\n"
      ]
    },
    {
      "cell_type": "markdown",
      "metadata": {
        "id": "Yg-IjZYVVYXe"
      },
      "source": [
        "---\n",
        "\n",
        "**4\\. Interact with the Agent Team**\n",
        "\n",
        "Now that we've defined our root agent (`cypher_agent_team` - *Note: Ensure this variable name matches the one defined in the previous code block, likely `# @title Define the Root Agent with Sub-Agents`, which might have named it `root_agent`*) with its specialized sub-agents, let's test the delegation mechanism.\n",
        "\n",
        "The following code block will:\n",
        "\n",
        "1.  Define an `async` function `run_team_conversation`.\n",
        "2.  Inside this function, create a *new, dedicated* `InMemorySessionService` and a specific session (`session_001_agent_team`) just for this test run. This isolates the conversation history for testing the team dynamics.\n",
        "3.  Create a `Runner` (`runner_agent_team`) configured to use our `cypher_agent_team` (the root agent) and the dedicated session service.\n",
        "4.  Use our updated `call_agent_async` function to send different types of queries (greeting, farewell) to the `runner_agent_team`. We explicitly pass the runner, user ID, and session ID for this specific test.\n",
        "5.  Immediately execute the `run_team_conversation` function.\n",
        "\n",
        "We expect the following flow:\n",
        "\n",
        "1.  The \"Hello there!\" query goes to `runner_agent_team`.\n",
        "2.  The root agent (`cypher_agent_team`) receives it and, based on its instructions and the `greeting_agent`'s description, delegates the task.\n",
        "3.  `greeting_agent` handles the query, calls its `say_hello` tool, and generates the response.\n",
        "4.  The \"What is Neo4j?\" query is *not* delegated and is handled directly by the root agent using its public knowledge.\n",
        "5.  The \"Thanks, bye!\" query is delegated to the `farewell_agent`, which uses its `say_goodbye` tool.\n",
        "\n"
      ]
    },
    {
      "cell_type": "code",
      "execution_count": 14,
      "metadata": {
        "id": "t9Wy4ai8VZ7H"
      },
      "outputs": [
        {
          "name": "stdout",
          "output_type": "stream",
          "text": [
            "\n",
            "--- Testing Agent Team Delegation ---\n",
            "Session created: App='cypher_agent_team', User='user_1_agent_team', Session='session_001_agent_team'\n",
            "Runner created for agent 'cypher_agent_v2'.\n",
            "\n",
            ">>> User Query: Hello, I am ABK!\n",
            "<<< Agent Response: Hello to you, ABK!\n",
            "\n",
            ">>> User Query: What is Neo4j?\n",
            "<<< Agent Response: Neo4j is a highly popular graph database management system. Unlike traditional databases that use tables (like SQL databases), Neo4j uses graph structures for data storage, which includes nodes, edges, and properties. This kind of data model is particularly effective for applications where relationships between data are highly interconnected, such as social networks, recommendation engines, fraud detection systems, and knowledge graphs.\n",
            "\n",
            "Key features of Neo4j include:\n",
            "\n",
            "1. **Native Graph Storage**: Neo4j stores data in a graph format natively, unlike other databases which simulate graph structures on top of existing storage systems.\n",
            "   \n",
            "2. **Cypher Query Language**: It uses Cypher, an easy-to-learn, expressive, and powerful query language that makes retrieving data from a graph database intuitive.\n",
            "\n",
            "3. **ACID Compliance**: Neo4j supports full ACID (Atomicity, Consistency, Isolation, Durability) transactions, providing reliability for mission-critical applications.\n",
            "\n",
            "4. **Scalability and High Performance**: It offers efficient querying, thanks to its optimized graph algorithms and ability to handle large volumes of data without performance degradation.\n",
            "\n",
            "5. **Rich Developer Ecosystem**: A wide variety of tools, libraries, and APIs are available, which support integration with other technologies and platforms.\n",
            "\n",
            "Neo4j is widely used across industries for tasks where relationships are first-class citizens in the data model, enhancing both performance and understanding of complex networks of data.\n",
            "\n",
            ">>> User Query: Thanks, bye!\n",
            "<<< Agent Response: Goodbye from Cypher!\n"
          ]
        }
      ],
      "source": [
        "# @title Interact with the Agent Team\n",
        "\n",
        "# Ensure the root agent (e.g., 'weather_agent_team' or 'root_agent' from the previous cell) is defined.\n",
        "# Ensure the call_agent_async function is defined.\n",
        "\n",
        "# Check if the root agent variable exists before defining the conversation function\n",
        "root_agent_var_name = 'root_agent' \n",
        "if 'cypher_agent_team' in globals(): # Check if user used this name instead\n",
        "    root_agent_var_name = 'cypher_agent_team'\n",
        "elif 'root_agent' not in globals():\n",
        "    print(\"⚠️ Root agent ('root_agent' or 'weather_agent_team') not found. Cannot define run_team_conversation.\")\n",
        "    # Assign a dummy value to prevent NameError later if the code block runs anyway\n",
        "    root_agent = None\n",
        "\n",
        "if root_agent_var_name in globals() and globals()[root_agent_var_name]:\n",
        "    async def run_team_conversation():\n",
        "        print(\"\\n--- Testing Agent Team Delegation ---\")\n",
        "        # InMemorySessionService is simple, non-persistent storage for this tutorial.\n",
        "        session_service = InMemorySessionService()\n",
        "\n",
        "        # Define constants for identifying the interaction context\n",
        "        APP_NAME = \"cypher_agent_team\"\n",
        "        USER_ID = \"user_1_agent_team\"\n",
        "        SESSION_ID = \"session_001_agent_team\" # Using a fixed ID for simplicity\n",
        "\n",
        "        # Create the specific session where the conversation will happen\n",
        "        session = session_service.create_session(\n",
        "            app_name=APP_NAME,\n",
        "            user_id=USER_ID,\n",
        "            session_id=SESSION_ID\n",
        "        )\n",
        "        print(f\"Session created: App='{APP_NAME}', User='{USER_ID}', Session='{SESSION_ID}'\")\n",
        "\n",
        "        # --- Get the actual root agent object ---\n",
        "        # Use the determined variable name\n",
        "        actual_root_agent = globals()[root_agent_var_name]\n",
        "\n",
        "        # Create a runner specific to this agent team test\n",
        "        runner_agent_team = Runner(\n",
        "            agent=actual_root_agent, # Use the root agent object\n",
        "            app_name=APP_NAME,       # Use the specific app name\n",
        "            session_service=session_service # Use the specific session service\n",
        "            )\n",
        "        # Corrected print statement to show the actual root agent's name\n",
        "        print(f\"Runner created for agent '{actual_root_agent.name}'.\")\n",
        "\n",
        "        # Always interact via the root agent's runner, passing the correct IDs\n",
        "        await call_agent_async(query = \"Hello, I am ABK!\",\n",
        "                               runner=runner_agent_team,\n",
        "                               user_id=USER_ID,\n",
        "                               session_id=SESSION_ID)\n",
        "        await call_agent_async(query = \"What is Neo4j?\",\n",
        "                               runner=runner_agent_team,\n",
        "                               user_id=USER_ID,\n",
        "                               session_id=SESSION_ID)\n",
        "        await call_agent_async(query = \"Thanks, bye!\",\n",
        "                               runner=runner_agent_team,\n",
        "                               user_id=USER_ID,\n",
        "                               session_id=SESSION_ID)\n",
        "\n",
        "    # Execute the conversation\n",
        "    # Note: This may require API keys for the models used by root and sub-agents!\n",
        "    await run_team_conversation()\n",
        "else:\n",
        "    print(\"\\n⚠️ Skipping agent team conversation as the root agent was not successfully defined in the previous step.\")\n"
      ]
    },
    {
      "cell_type": "markdown",
      "metadata": {
        "id": "Zgw3Cn2NVcI7"
      },
      "source": [
        "---\n",
        "\n",
        "Look closely at the output logs, especially the `--- Tool: ... called ---` messages. You should observe:\n",
        "\n",
        "*   For \"Hello there!\", the `say_hello` tool was called (indicating `greeting_agent` handled it).\n",
        "*   For \"What is Neo4j?\",  the root agent handled it directly.\n",
        "*   For \"Thanks, bye!\", the `say_goodbye` tool was called (indicating `farewell_agent` handled it).\n",
        "\n",
        "This confirms successful **automatic delegation**! The root agent, guided by its instructions and the `description`s of its `sub_agents`, correctly routed user requests to the appropriate specialist agent within the team.\n",
        "\n",
        "You've now structured your application with multiple collaborating agents. This modular design is fundamental for building more complex and capable agent systems. In the next step, we'll give our agents the ability to remember information across turns using session state."
      ]
    },
    {
      "cell_type": "markdown",
      "metadata": {
        "id": "s7gD2sCy1qWz"
      },
      "source": [
        "## Step 4: Adding Memory and Personalization with Session State\n",
        "\n",
        "So far, our agent team can handle different tasks through delegation, but each interaction starts fresh – the agents have no memory of past conversations or user preferences within a session. To create more sophisticated and context-aware experiences, agents need **memory**. ADK provides this through **Session State**.\n",
        "\n",
        "**What is Session State?**\n",
        "\n",
        "* It's a Python dictionary (`session.state`) tied to a specific user session (identified by `APP_NAME`, `USER_ID`, `SESSION_ID`).  \n",
        "* It persists information *across multiple conversational turns* within that session.  \n",
        "* Agents and Tools can read from and write to this state, allowing them to remember details, adapt behavior, and personalize responses.\n",
        "\n",
        "**How Agents Interact with State:**\n",
        "\n",
        "1. **`ToolContext` (Primary Method):** Tools can accept a `ToolContext` object (automatically provided by ADK if declared as the last argument). This object gives direct access to the session state via `tool_context.state`, allowing tools to read preferences or save results *during* execution.  \n",
        "2. **`output_key` (Auto-Save Agent Response):** An `Agent` can be configured with an `output_key=\"your_key\"`. ADK will then automatically save the agent's final textual response for a turn into `session.state[\"your_key\"]`.\n",
        "\n",
        "**In this step, we will enhance our Cypher team by:**\n",
        "\n",
        "1. Using a **new** `InMemorySessionService` to demonstrate state in isolation.  \n",
        "2. Initializing session state with a default user name.  \n",
        "3. Creating a state-aware version of the say_hello tool (`say_hello_stateful`) which responds with a personalized greeting and sets the user name in the session state.  \n",
        "4. Creating a state-aware version of the say_goodbye tool (`say_goodbye_stateful`) that reads this preference via `ToolContext` and adjusts a personalized goodbye message.  \n",
        "5. Running a conversation to observe how the initial state affects the tool, how manual state changes alter subsequent behavior."
      ]
    },
    {
      "cell_type": "markdown",
      "metadata": {
        "id": "HsIjxunW1xeO"
      },
      "source": [
        "---\n",
        "\n",
        "**1\\. Initialize New Session Service and State**\n",
        "\n",
        "To clearly demonstrate state management without interference from prior steps, we'll instantiate a new `InMemorySessionService`. We'll also create a session with an initial state defining the user's preferred temperature unit."
      ]
    },
    {
      "cell_type": "code",
      "execution_count": 15,
      "metadata": {
        "id": "wt21ea6ctFT5"
      },
      "outputs": [
        {
          "name": "stdout",
          "output_type": "stream",
          "text": [
            "✅ New InMemorySessionService created for state demonstration.\n",
            "✅ Session 'session_state_demo_001' created for user 'user_state_demo'.\n",
            "\n",
            "--- Initial Session State ---\n",
            "{'user_name': 'Graph Learner'}\n"
          ]
        }
      ],
      "source": [
        "# @title 1. Initialize New Session Service and State\n",
        "\n",
        "# Import necessary session components\n",
        "from google.adk.sessions import InMemorySessionService\n",
        "\n",
        "# Create a NEW session service instance for this state demonstration\n",
        "session_service_stateful = InMemorySessionService()\n",
        "print(\"✅ New InMemorySessionService created for state demonstration.\")\n",
        "\n",
        "# Define a NEW session ID for this part of the tutorial\n",
        "SESSION_ID_STATEFUL = \"session_state_demo_001\"\n",
        "USER_ID_STATEFUL = \"user_state_demo\"\n",
        "\n",
        "# Define initial state data - user prefers Celsius initially\n",
        "initial_state = {\n",
        "    \"user_name\": \"Graph Learner\"\n",
        "}\n",
        "\n",
        "# Create the session, providing the initial state\n",
        "session_stateful = session_service_stateful.create_session(\n",
        "    app_name=APP_NAME, # Use the consistent app name\n",
        "    user_id=USER_ID_STATEFUL,\n",
        "    session_id=SESSION_ID_STATEFUL,\n",
        "    state=initial_state # <<< Initialize state during creation\n",
        ")\n",
        "print(f\"✅ Session '{SESSION_ID_STATEFUL}' created for user '{USER_ID_STATEFUL}'.\")\n",
        "\n",
        "# Verify the initial state was set correctly\n",
        "retrieved_session = session_service_stateful.get_session(app_name=APP_NAME,\n",
        "                                                         user_id=USER_ID_STATEFUL,\n",
        "                                                         session_id = SESSION_ID_STATEFUL)\n",
        "print(\"\\n--- Initial Session State ---\")\n",
        "if retrieved_session:\n",
        "    print(retrieved_session.state)\n",
        "else:\n",
        "    print(\"Error: Could not retrieve session.\")"
      ]
    },
    {
      "cell_type": "markdown",
      "metadata": {
        "id": "652bNx3H16lJ"
      },
      "source": [
        "---\n",
        "\n",
        "**2\\. Create State-Aware hello/goodbye Tools (`say_hello_stateful` and `say_goodbye_stateful`)**\n",
        "\n",
        "Now, we create a new version of the hello/goodbye tools. The key feature is accepting `tool_context: ToolContext` which allows them to access `tool_context.state`. They will write to or read from the `user_name` state variable.\n",
        "\n",
        "\n",
        "* **Key Concept: `ToolContext`** This object is the bridge allowing your tool logic to interact with the session's context, including reading and writing state variables. ADK injects it automatically if defined as the last parameter of your tool function.\n",
        "\n",
        "\n",
        "* **Best Practice:** When reading from state, use `dictionary.get('key', default_value)` to handle cases where the key might not exist yet, ensuring your tool doesn't crash."
      ]
    },
    {
      "cell_type": "code",
      "execution_count": 16,
      "metadata": {
        "id": "zK11GeWftFRC"
      },
      "outputs": [
        {
          "name": "stdout",
          "output_type": "stream",
          "text": [
            "✅ State-aware 'say_hello_stateful' and 'say_goodbye_stateful' tools defined.\n"
          ]
        }
      ],
      "source": [
        "from google.adk.tools.tool_context import ToolContext\n",
        "\n",
        "def say_hello_stateful(user_name: str, tool_context:ToolContext):\n",
        "    \"\"\"Says hello to the user, recording their name into state.\"\"\"\n",
        "    tool_context.state[\"user_name\"] = user_name\n",
        "    return graphdb.send_query(\n",
        "        f\"RETURN 'Hello to you, ' + $user_name + '.' AS reply\",\n",
        "    {\n",
        "        \"user_name\": user_name\n",
        "    })\n",
        "    \n",
        "def say_goodbye_stateful(tool_context: ToolContext) -> dict:\n",
        "    \"\"\"Says goodbye to the user, reading their name from state.\"\"\"\n",
        "    user_name = tool_context.state.get(\"user_name\", \"stranger\")\n",
        "    return graphdb.send_query(\"RETURN 'Goodbye, ' + $user_name + ', nice to chat with you!' AS reply\",\n",
        "    {\n",
        "        \"user_name\": user_name\n",
        "    })\n",
        "\n",
        "\n",
        "print(\"✅ State-aware 'say_hello_stateful' and 'say_goodbye_stateful' tools defined.\")\n"
      ]
    },
    {
      "cell_type": "markdown",
      "metadata": {
        "id": "UuQMolpG2Qkg"
      },
      "source": [
        "---\n",
        "\n",
        "**3\\. Redefine Sub-Agents and Update Root Agent**\n",
        "\n",
        "To ensure this step is self-contained and builds correctly, we first redefine the `greeting_agent` and `farewell_agent` exactly as they were in Step 3\\. Then, we define our new root agent (`cypher_agent_v4_stateful`):\n",
        "\n",
        "* It uses the new `say_hello_stateful` and `say_goodbye_stateful` tools.  \n",
        "* It includes the greeting and farewell sub-agents for delegation.  \n"
      ]
    },
    {
      "cell_type": "code",
      "execution_count": 17,
      "metadata": {
        "id": "ox3-2hwTtFOK"
      },
      "outputs": [
        {
          "name": "stdout",
          "output_type": "stream",
          "text": [
            "✅ Agent 'greeting_agent' redefined.\n",
            "✅ Agent 'farewell_agent' redefined.\n",
            "✅ Root Agent 'cypher_agent_v4_stateful' created using agents with stateful tools.\n",
            "✅ Runner created for stateful root agent 'cypher_agent_v4_stateful' using stateful session service.\n"
          ]
        }
      ],
      "source": [
        "# @title 3. Redefine Sub-Agents and Update Root Agent with output_key\n",
        "\n",
        "from google.adk.agents import Agent\n",
        "from google.adk.runners import Runner\n",
        "\n",
        "# --- Redefine Greeting Agent (from Step 3) ---\n",
        "greeting_agent = None\n",
        "try:\n",
        "    greeting_agent = Agent(\n",
        "        model=llm,\n",
        "        name=\"greeting_agent\",\n",
        "        instruction=\"You are the Greeting Agent. Your ONLY task is to provide a friendly greeting using the 'say_hello' tool. Do nothing else.\",\n",
        "        description=\"Handles simple greetings and hellos using the 'say_hello' tool.\",\n",
        "        tools=[say_hello_stateful],\n",
        "    )\n",
        "    print(f\"✅ Agent '{greeting_agent.name}' redefined.\")\n",
        "except Exception as e:\n",
        "    print(f\"❌ Could not redefine Greeting agent. Error: {e}\")\n",
        "\n",
        "# --- Redefine Farewell Agent (from Step 3) ---\n",
        "farewell_agent = None\n",
        "try:\n",
        "    farewell_agent = Agent(\n",
        "        model=llm,\n",
        "        name=\"farewell_agent\",\n",
        "        instruction=\"You are the Farewell Agent. Your ONLY task is to provide a polite goodbye message using the 'say_goodbye_stateful' tool. Do not perform any other actions.\",\n",
        "        description=\"Handles simple farewells and goodbyes using the 'say_goodbye_stateful' tool.\",\n",
        "        tools=[say_goodbye_stateful],\n",
        "    )\n",
        "    print(f\"✅ Agent '{farewell_agent.name}' redefined.\")\n",
        "except Exception as e:\n",
        "    print(f\"❌ Could not redefine Farewell agent. Error: {e}\")\n",
        "\n",
        "# --- Define the Updated Root Agent ---\n",
        "root_agent_stateful = None\n",
        "runner_root_stateful = None # Initialize runner\n",
        "\n",
        "# Check prerequisites before creating the root agent\n",
        "if 'greeting_agent' and 'farewell_agent' and 'say_hello_stateful' and 'say_goodbye_stateful' in globals():\n",
        "\n",
        "    root_agent_stateful = Agent(\n",
        "        name=\"cypher_agent_v4_stateful\", # New version name\n",
        "        model=llm,\n",
        "        description=\"Main agent: Provides weather (state-aware unit), delegates greetings/farewells, saves report to state.\",\n",
        "        instruction=\"\"\"You are the main conversational Cypher Agent. Your job is to answer questions about Neo4j. \n",
        "\n",
        "                    Delegate simple greetings to 'greeting_agent' and farewells to 'farewell_agent'. \n",
        "                    Handle only questions about Neo4j, greetings, and farewells.\"\"\",\n",
        "        tools=[], # Still no tools for root\n",
        "        sub_agents=[greeting_agent, farewell_agent], # Include sub-agents\n",
        "    )\n",
        "    print(f\"✅ Root Agent '{root_agent_stateful.name}' created using agents with stateful tools.\")\n",
        "\n",
        "    # --- Create Runner for this Root Agent & NEW Session Service ---\n",
        "    runner_root_stateful = Runner(\n",
        "        agent=root_agent_stateful,\n",
        "        app_name=APP_NAME,\n",
        "        session_service=session_service_stateful # Use the NEW stateful session service\n",
        "    )\n",
        "    print(f\"✅ Runner created for stateful root agent '{runner_root_stateful.agent.name}' using stateful session service.\")\n",
        "\n",
        "else:\n",
        "    print(\"❌ Cannot create stateful root agent. Prerequisites missing.\")\n",
        "    if not greeting_agent: print(\" - greeting_agent definition missing.\")\n",
        "    if not farewell_agent: print(\" - farewell_agent definition missing.\")\n"
      ]
    },
    {
      "cell_type": "markdown",
      "metadata": {
        "id": "P394DfSb2aOw"
      },
      "source": [
        "---\n",
        "\n",
        "**4\\. Interact and Test State Flow**\n",
        "\n",
        "Now, let's execute a conversation designed to test the state interactions using the `runner_root_stateful` (associated with our stateful agent and the `session_service_stateful`). We'll use the `call_agent_async` function defined earlier, ensuring we pass the correct runner, user ID (`USER_ID_STATEFUL`), and session ID (`SESSION_ID_STATEFUL`).\n",
        "\n",
        "The conversation flow will be:\n",
        "\n",
        "1.  **Check weather (London):** The `get_weather_stateful` tool should read the initial \"Celsius\" preference from the session state initialized in Section 1. The root agent's final response (the weather report in Celsius) should get saved to `state['last_weather_report']` via the `output_key` configuration.\n",
        "2.  **Manually update state:** We will *directly modify* the state stored within the `InMemorySessionService` instance (`session_service_stateful`).\n",
        "    *   **Why direct modification?** The `session_service.get_session()` method returns a *copy* of the session. Modifying that copy wouldn't affect the state used in subsequent agent runs. For this testing scenario with `InMemorySessionService`, we access the internal `sessions` dictionary to change the *actual* stored state value for `user_preference_temperature_unit` to \"Fahrenheit\". *Note: In real applications, state changes are typically triggered by tools or agent logic returning `EventActions(state_delta=...)`, not direct manual updates.*\n",
        "3.  **Check weather again (New York):** The `get_weather_stateful` tool should now read the updated \"Fahrenheit\" preference from the state and convert the temperature accordingly. The root agent's *new* response (weather in Fahrenheit) will overwrite the previous value in `state['last_weather_report']` due to the `output_key`.\n",
        "4.  **Greet the agent:** Verify that delegation to the `greeting_agent` still works correctly alongside the stateful operations. This interaction will become the *last* response saved by `output_key` in this specific sequence.\n",
        "5.  **Inspect final state:** After the conversation, we retrieve the session one last time (getting a copy) and print its state to confirm the `user_preference_temperature_unit` is indeed \"Fahrenheit\", observe the final value saved by `output_key` (which will be the greeting in this run), and see the `last_city_checked_stateful` value written by the tool.\n"
      ]
    },
    {
      "cell_type": "code",
      "execution_count": 18,
      "metadata": {
        "id": "WYZfRCp0tFLT"
      },
      "outputs": [
        {
          "name": "stdout",
          "output_type": "stream",
          "text": [
            "\n",
            "--- Testing State: Stateful Greeting and Farewell ---\n",
            "--- Turn 1: Say 'hello'  ---\n",
            "\n",
            ">>> User Query: Hello, I'm ABK\n",
            "<<< Agent Response: Hello to you, ABK.\n",
            "\n",
            "--- Turn 2: Say goodbye, expecting the response to be personalized ---\n",
            "\n",
            ">>> User Query: Bye!\n",
            "<<< Agent Response: Goodbye, ABK, nice to chat with you!\n",
            "\n",
            "--- Inspecting Final Session State ---\n",
            "Final Username: ABK\n"
          ]
        }
      ],
      "source": [
        "# @title 4. Interact to Test State Flow and output_key\n",
        "\n",
        "# Ensure the stateful runner (runner_root_stateful) is available from the previous cell\n",
        "# Ensure call_agent_async, USER_ID_STATEFUL, SESSION_ID_STATEFUL, APP_NAME are defined\n",
        "\n",
        "if 'runner_root_stateful' in globals() and runner_root_stateful:\n",
        "  async def run_stateful_conversation():\n",
        "      print(\"\\n--- Testing State: Stateful Greeting and Farewell ---\")\n",
        "\n",
        "      # 1. Say hello, introducing yourself\n",
        "      print(\"--- Turn 1: Say 'hello'  ---\")\n",
        "      await call_agent_async(query= \"Hello, I'm ABK\",\n",
        "                             runner=runner_root_stateful,\n",
        "                             user_id=USER_ID_STATEFUL,\n",
        "                             session_id=SESSION_ID_STATEFUL\n",
        "                            )\n",
        "\n",
        "      # 2. Test farewell reading from state\n",
        "      print(\"\\n--- Turn 2: Say goodbye, expecting the response to be personalized ---\")\n",
        "      await call_agent_async(query= \"Bye!\",\n",
        "                             runner=runner_root_stateful,\n",
        "                             user_id=USER_ID_STATEFUL,\n",
        "                             session_id=SESSION_ID_STATEFUL\n",
        "                            )\n",
        "\n",
        "  # Execute the conversation\n",
        "  await run_stateful_conversation()\n",
        "\n",
        "  # Inspect final session state after the conversation\n",
        "  print(\"\\n--- Inspecting Final Session State ---\")\n",
        "  final_session = session_service_stateful.get_session(app_name=APP_NAME,\n",
        "                                                       user_id= USER_ID_STATEFUL,\n",
        "                                                       session_id=SESSION_ID_STATEFUL)\n",
        "  if final_session:\n",
        "      print(f\"Final Username: {final_session.state.get('user_name')}\")\n",
        "  else:\n",
        "      print(\"\\n❌ Error: Could not retrieve final session state.\")\n",
        "\n",
        "else:\n",
        "  print(\"\\n⚠️ Skipping state test conversation. Stateful root agent runner ('runner_root_stateful') is not available.\")"
      ]
    },
    {
      "cell_type": "markdown",
      "metadata": {
        "id": "mqiG4SAX2l8C"
      },
      "source": [
        "---\n",
        "\n",
        "By reviewing the conversation flow and the final session state printout, you can confirm:\n",
        "\n",
        "*   **State Update:** The `say_hello_stateful` tool successfully updated `user_name` in state.\n",
        "*   **State Read:** The `say_goodbye_stateful` tool correctly read `user_name` from state.\n",
        "*   **Delegation:** The delegation to the `greeting_agent` for \"Hi!\" functioned correctly even after state modifications.\n",
        "*   **Final State:** The final check confirms the user_name persisted as \"ABK\".\n",
        "\n",
        "You've now successfully integrated session state to personalize agent behavior using `ToolContext`, manually manipulated state for testing `InMemorySessionService`, and observed the behavior. \n",
        "\n",
        "This foundational understanding of state management is key as we proceed to implementing a stateful workflow..\n",
        "\n",
        "---"
      ]
    },
    {
      "cell_type": "markdown",
      "metadata": {},
      "source": []
    },
    {
      "cell_type": "markdown",
      "metadata": {},
      "source": [
        "---\n",
        "** Finally, An Interactive Conversation**\n",
        "\n",
        "Now, let's make this interactive so you can ask your own questions! Run the cell below. It will prompt you to enter your queries directly."
      ]
    },
    {
      "cell_type": "code",
      "execution_count": 20,
      "metadata": {},
      "outputs": [
        {
          "name": "stdout",
          "output_type": "stream",
          "text": [
            "\n",
            ">>> User Query: hi\n",
            "<<< Agent Response: Hello to you, ABK.\n",
            "Response: None\n",
            "\n",
            ">>> User Query: I am bob\n",
            "<<< Agent Response: Hello to you, Bob.\n",
            "Response: None\n",
            "\n",
            ">>> User Query: bye\n",
            "<<< Agent Response: Goodbye, Bob, nice to chat with you!\n",
            "Response: None\n",
            "\n",
            ">>> User Query: i am hiro\n",
            "<<< Agent Response: Hello to you, Hiro.\n",
            "Response: None\n"
          ]
        }
      ],
      "source": [
        "async def run_interactive_conversation():\n",
        "    while True:\n",
        "        user_query = input(\"Ask me something (or type 'exit' to quit): \")\n",
        "        if user_query.lower() == 'exit':\n",
        "            break\n",
        "        response = await call_agent_async(user_query,\n",
        "                                            runner=runner_root_stateful,\n",
        "                                            user_id=USER_ID_STATEFUL,\n",
        "                                            session_id=SESSION_ID_STATEFUL)\n",
        "        print(f\"Response: {response}\")\n",
        "\n",
        "# Execute the interactive conversation\n",
        "await run_interactive_conversation()"
      ]
    },
    {
      "cell_type": "code",
      "execution_count": null,
      "metadata": {},
      "outputs": [],
      "source": []
    }
  ],
  "metadata": {
    "colab": {
      "provenance": [],
      "toc_visible": true
    },
    "kernelspec": {
      "display_name": ".venv",
      "language": "python",
      "name": "python3"
    },
    "language_info": {
      "codemirror_mode": {
        "name": "ipython",
        "version": 3
      },
      "file_extension": ".py",
      "mimetype": "text/x-python",
      "name": "python",
      "nbconvert_exporter": "python",
      "pygments_lexer": "ipython3",
      "version": "3.12.7"
    }
  },
  "nbformat": 4,
  "nbformat_minor": 0
}
